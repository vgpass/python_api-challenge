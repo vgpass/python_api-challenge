{
 "cells": [
  {
   "cell_type": "markdown",
   "metadata": {},
   "source": [
    "# VacationPy\n",
    "----\n",
    "\n",
    "#### Note\n",
    "* Keep an eye on your API usage. Use https://developers.google.com/maps/reporting/gmp-reporting as reference for how to monitor your usage and billing.\n",
    "\n",
    "* Instructions have been included for each segment. You do not have to follow them exactly, but they are included to help you think through the steps."
   ]
  },
  {
   "cell_type": "code",
   "execution_count": 24,
   "metadata": {},
   "outputs": [],
   "source": [
    "# Dependencies and Setup\n",
    "import matplotlib.pyplot as plt\n",
    "import pandas as pd\n",
    "import numpy as np\n",
    "import requests\n",
    "import gmaps\n",
    "import json\n",
    "import os\n",
    "\n",
    "# Import API key\n",
    "from api_keys import g_key\n",
    "from api_keys import geo_key"
   ]
  },
  {
   "cell_type": "markdown",
   "metadata": {},
   "source": [
    "### Store Part I results into DataFrame\n",
    "* Load the csv exported in Part I to a DataFrame"
   ]
  },
  {
   "cell_type": "code",
   "execution_count": 25,
   "metadata": {},
   "outputs": [
    {
     "data": {
      "text/html": [
       "<div>\n",
       "<style scoped>\n",
       "    .dataframe tbody tr th:only-of-type {\n",
       "        vertical-align: middle;\n",
       "    }\n",
       "\n",
       "    .dataframe tbody tr th {\n",
       "        vertical-align: top;\n",
       "    }\n",
       "\n",
       "    .dataframe thead th {\n",
       "        text-align: right;\n",
       "    }\n",
       "</style>\n",
       "<table border=\"1\" class=\"dataframe\">\n",
       "  <thead>\n",
       "    <tr style=\"text-align: right;\">\n",
       "      <th></th>\n",
       "      <th>City_ID</th>\n",
       "      <th>City</th>\n",
       "      <th>Lat</th>\n",
       "      <th>Lng</th>\n",
       "      <th>Max Temp</th>\n",
       "      <th>Humidity</th>\n",
       "      <th>Cloudiness</th>\n",
       "      <th>Wind Speed</th>\n",
       "      <th>Country</th>\n",
       "      <th>Date</th>\n",
       "    </tr>\n",
       "  </thead>\n",
       "  <tbody>\n",
       "    <tr>\n",
       "      <th>0</th>\n",
       "      <td>0</td>\n",
       "      <td>kapaa</td>\n",
       "      <td>22.0752</td>\n",
       "      <td>-159.3190</td>\n",
       "      <td>84.18</td>\n",
       "      <td>72</td>\n",
       "      <td>75</td>\n",
       "      <td>16.11</td>\n",
       "      <td>US</td>\n",
       "      <td>1668983435</td>\n",
       "    </tr>\n",
       "    <tr>\n",
       "      <th>1</th>\n",
       "      <td>1</td>\n",
       "      <td>rikitea</td>\n",
       "      <td>-23.1203</td>\n",
       "      <td>-134.9692</td>\n",
       "      <td>66.24</td>\n",
       "      <td>90</td>\n",
       "      <td>100</td>\n",
       "      <td>11.74</td>\n",
       "      <td>PF</td>\n",
       "      <td>1668983435</td>\n",
       "    </tr>\n",
       "    <tr>\n",
       "      <th>2</th>\n",
       "      <td>2</td>\n",
       "      <td>jurado</td>\n",
       "      <td>7.1053</td>\n",
       "      <td>-77.7641</td>\n",
       "      <td>77.50</td>\n",
       "      <td>92</td>\n",
       "      <td>98</td>\n",
       "      <td>5.46</td>\n",
       "      <td>CO</td>\n",
       "      <td>1668983436</td>\n",
       "    </tr>\n",
       "    <tr>\n",
       "      <th>3</th>\n",
       "      <td>3</td>\n",
       "      <td>ampanihy</td>\n",
       "      <td>-24.7000</td>\n",
       "      <td>44.7500</td>\n",
       "      <td>70.12</td>\n",
       "      <td>77</td>\n",
       "      <td>96</td>\n",
       "      <td>11.70</td>\n",
       "      <td>MG</td>\n",
       "      <td>1668983436</td>\n",
       "    </tr>\n",
       "    <tr>\n",
       "      <th>4</th>\n",
       "      <td>4</td>\n",
       "      <td>busselton</td>\n",
       "      <td>-33.6500</td>\n",
       "      <td>115.3333</td>\n",
       "      <td>55.58</td>\n",
       "      <td>65</td>\n",
       "      <td>0</td>\n",
       "      <td>13.53</td>\n",
       "      <td>AU</td>\n",
       "      <td>1668983437</td>\n",
       "    </tr>\n",
       "  </tbody>\n",
       "</table>\n",
       "</div>"
      ],
      "text/plain": [
       "   City_ID       City      Lat       Lng  Max Temp  Humidity  Cloudiness  \\\n",
       "0        0      kapaa  22.0752 -159.3190     84.18        72          75   \n",
       "1        1    rikitea -23.1203 -134.9692     66.24        90         100   \n",
       "2        2     jurado   7.1053  -77.7641     77.50        92          98   \n",
       "3        3   ampanihy -24.7000   44.7500     70.12        77          96   \n",
       "4        4  busselton -33.6500  115.3333     55.58        65           0   \n",
       "\n",
       "   Wind Speed Country        Date  \n",
       "0       16.11      US  1668983435  \n",
       "1       11.74      PF  1668983435  \n",
       "2        5.46      CO  1668983436  \n",
       "3       11.70      MG  1668983436  \n",
       "4       13.53      AU  1668983437  "
      ]
     },
     "execution_count": 25,
     "metadata": {},
     "output_type": "execute_result"
    }
   ],
   "source": [
    "path = 'output_data/cities.csv'\n",
    "city_data_df = pd.read_csv(path, encoding='utf-8')\n",
    "# city_test = pd.DataFrame('/output_data/cities.csv')\n",
    "city_data_df.head()\n",
    "\n"
   ]
  },
  {
   "cell_type": "markdown",
   "metadata": {},
   "source": [
    "### Humidity Heatmap\n",
    "* Configure gmaps.\n",
    "* Use the Lat and Lng as locations and Humidity as the weight.\n",
    "* Add Heatmap layer to map."
   ]
  },
  {
   "cell_type": "code",
   "execution_count": 26,
   "metadata": {},
   "outputs": [],
   "source": [
    "gmaps.configure(api_key=g_key)\n",
    "\n",
    "# Store 'Lat' and 'Lng' into  locations \n",
    "locations = city_data_df[[\"Lat\", \"Lng\"]]\n",
    "humidity = city_data_df['Humidity'].astype(float)\n"
   ]
  },
  {
   "cell_type": "code",
   "execution_count": 27,
   "metadata": {},
   "outputs": [
    {
     "data": {
      "application/vnd.jupyter.widget-view+json": {
       "model_id": "7f564efcb7f44bdc853297be0029c392",
       "version_major": 2,
       "version_minor": 0
      },
      "text/plain": [
       "Figure(layout=FigureLayout(height='500px', width='1200px'))"
      ]
     },
     "metadata": {},
     "output_type": "display_data"
    }
   ],
   "source": [
    "# Create a weather Heatmap layer\n",
    "fig = gmaps.figure(center=(0, 0), zoom_level=2.20, layout={'width': '1200px', 'height': '500px'})\n",
    "\n",
    "heat_layer = gmaps.heatmap_layer(locations, weights=humidity, \n",
    "                                 dissipating=False, max_intensity=100,\n",
    "                                 point_radius = 3)\n",
    "\n",
    "fig.add_layer(heat_layer)\n",
    "\n",
    "fig"
   ]
  },
  {
   "cell_type": "markdown",
   "metadata": {},
   "source": [
    "### Create new DataFrame fitting weather criteria\n",
    "* Narrow down the cities to fit weather conditions.\n",
    "* Drop any rows will null values."
   ]
  },
  {
   "cell_type": "code",
   "execution_count": 28,
   "metadata": {},
   "outputs": [
    {
     "data": {
      "text/plain": [
       "City_ID       10\n",
       "City          10\n",
       "Lat           10\n",
       "Lng           10\n",
       "Max Temp      10\n",
       "Humidity      10\n",
       "Cloudiness    10\n",
       "Wind Speed    10\n",
       "Country       10\n",
       "Date          10\n",
       "dtype: int64"
      ]
     },
     "execution_count": 28,
     "metadata": {},
     "output_type": "execute_result"
    }
   ],
   "source": [
    "ideal = city_data_df.loc[((city_data_df['Humidity'] < 70) &\n",
    "                          (city_data_df['Humidity'] > 50) &\n",
    "                          (city_data_df['Max Temp'] > 65.0) & \n",
    "                          (city_data_df['Max Temp'] < 85.0) & \n",
    "                          (city_data_df['Cloudiness'] < 30))]\n",
    "# ideal.count()\n",
    "ideal =ideal.dropna()\n",
    "ideal.count()"
   ]
  },
  {
   "cell_type": "markdown",
   "metadata": {},
   "source": [
    "### Hotel Map\n",
    "* Store into variable named `hotel_df`.\n",
    "* Add a \"Hotel Name\" column to the DataFrame.\n",
    "* Set parameters to search for hotels with 5000 meters.\n",
    "* Hit the Google Places API for each city's coordinates.\n",
    "* Store the first Hotel result into the DataFrame.\n",
    "* Plot markers on top of the heatmap."
   ]
  },
  {
   "cell_type": "code",
   "execution_count": 29,
   "metadata": {},
   "outputs": [
    {
     "data": {
      "text/html": [
       "<div>\n",
       "<style scoped>\n",
       "    .dataframe tbody tr th:only-of-type {\n",
       "        vertical-align: middle;\n",
       "    }\n",
       "\n",
       "    .dataframe tbody tr th {\n",
       "        vertical-align: top;\n",
       "    }\n",
       "\n",
       "    .dataframe thead th {\n",
       "        text-align: right;\n",
       "    }\n",
       "</style>\n",
       "<table border=\"1\" class=\"dataframe\">\n",
       "  <thead>\n",
       "    <tr style=\"text-align: right;\">\n",
       "      <th></th>\n",
       "      <th>City_ID</th>\n",
       "      <th>City</th>\n",
       "      <th>Lat</th>\n",
       "      <th>Lng</th>\n",
       "      <th>Max Temp</th>\n",
       "      <th>Humidity</th>\n",
       "      <th>Cloudiness</th>\n",
       "      <th>Wind Speed</th>\n",
       "      <th>Country</th>\n",
       "      <th>Date</th>\n",
       "      <th>Hotel Name</th>\n",
       "    </tr>\n",
       "  </thead>\n",
       "  <tbody>\n",
       "    <tr>\n",
       "      <th>162</th>\n",
       "      <td>162</td>\n",
       "      <td>saint-pierre</td>\n",
       "      <td>-21.3393</td>\n",
       "      <td>55.4781</td>\n",
       "      <td>71.28</td>\n",
       "      <td>64</td>\n",
       "      <td>0</td>\n",
       "      <td>6.91</td>\n",
       "      <td>RE</td>\n",
       "      <td>1668983532</td>\n",
       "      <td></td>\n",
       "    </tr>\n",
       "    <tr>\n",
       "      <th>208</th>\n",
       "      <td>208</td>\n",
       "      <td>najran</td>\n",
       "      <td>17.4924</td>\n",
       "      <td>44.1277</td>\n",
       "      <td>65.05</td>\n",
       "      <td>60</td>\n",
       "      <td>14</td>\n",
       "      <td>1.39</td>\n",
       "      <td>SA</td>\n",
       "      <td>1668983560</td>\n",
       "      <td></td>\n",
       "    </tr>\n",
       "    <tr>\n",
       "      <th>233</th>\n",
       "      <td>233</td>\n",
       "      <td>sur</td>\n",
       "      <td>22.5667</td>\n",
       "      <td>59.5289</td>\n",
       "      <td>75.00</td>\n",
       "      <td>64</td>\n",
       "      <td>0</td>\n",
       "      <td>7.67</td>\n",
       "      <td>OM</td>\n",
       "      <td>1668983575</td>\n",
       "      <td></td>\n",
       "    </tr>\n",
       "    <tr>\n",
       "      <th>293</th>\n",
       "      <td>293</td>\n",
       "      <td>makakilo city</td>\n",
       "      <td>21.3469</td>\n",
       "      <td>-158.0858</td>\n",
       "      <td>82.72</td>\n",
       "      <td>56</td>\n",
       "      <td>20</td>\n",
       "      <td>21.85</td>\n",
       "      <td>US</td>\n",
       "      <td>1668983611</td>\n",
       "      <td></td>\n",
       "    </tr>\n",
       "    <tr>\n",
       "      <th>319</th>\n",
       "      <td>319</td>\n",
       "      <td>gizo</td>\n",
       "      <td>-8.1030</td>\n",
       "      <td>156.8419</td>\n",
       "      <td>84.63</td>\n",
       "      <td>61</td>\n",
       "      <td>27</td>\n",
       "      <td>9.86</td>\n",
       "      <td>SB</td>\n",
       "      <td>1668983625</td>\n",
       "      <td></td>\n",
       "    </tr>\n",
       "    <tr>\n",
       "      <th>334</th>\n",
       "      <td>334</td>\n",
       "      <td>bushehr</td>\n",
       "      <td>28.9684</td>\n",
       "      <td>50.8385</td>\n",
       "      <td>69.89</td>\n",
       "      <td>68</td>\n",
       "      <td>0</td>\n",
       "      <td>11.50</td>\n",
       "      <td>IR</td>\n",
       "      <td>1668983634</td>\n",
       "      <td></td>\n",
       "    </tr>\n",
       "    <tr>\n",
       "      <th>378</th>\n",
       "      <td>378</td>\n",
       "      <td>inhambane</td>\n",
       "      <td>-23.8650</td>\n",
       "      <td>35.3833</td>\n",
       "      <td>69.22</td>\n",
       "      <td>65</td>\n",
       "      <td>18</td>\n",
       "      <td>10.65</td>\n",
       "      <td>MZ</td>\n",
       "      <td>1668983660</td>\n",
       "      <td></td>\n",
       "    </tr>\n",
       "    <tr>\n",
       "      <th>415</th>\n",
       "      <td>415</td>\n",
       "      <td>cabo san lucas</td>\n",
       "      <td>22.8909</td>\n",
       "      <td>-109.9124</td>\n",
       "      <td>81.61</td>\n",
       "      <td>57</td>\n",
       "      <td>0</td>\n",
       "      <td>17.27</td>\n",
       "      <td>MX</td>\n",
       "      <td>1668983167</td>\n",
       "      <td></td>\n",
       "    </tr>\n",
       "    <tr>\n",
       "      <th>489</th>\n",
       "      <td>489</td>\n",
       "      <td>flinders</td>\n",
       "      <td>-34.5833</td>\n",
       "      <td>150.8552</td>\n",
       "      <td>68.05</td>\n",
       "      <td>53</td>\n",
       "      <td>29</td>\n",
       "      <td>15.99</td>\n",
       "      <td>AU</td>\n",
       "      <td>1668983700</td>\n",
       "      <td></td>\n",
       "    </tr>\n",
       "    <tr>\n",
       "      <th>537</th>\n",
       "      <td>537</td>\n",
       "      <td>talara</td>\n",
       "      <td>-4.5772</td>\n",
       "      <td>-81.2719</td>\n",
       "      <td>72.36</td>\n",
       "      <td>68</td>\n",
       "      <td>0</td>\n",
       "      <td>19.57</td>\n",
       "      <td>PE</td>\n",
       "      <td>1668983755</td>\n",
       "      <td></td>\n",
       "    </tr>\n",
       "  </tbody>\n",
       "</table>\n",
       "</div>"
      ],
      "text/plain": [
       "     City_ID            City      Lat       Lng  Max Temp  Humidity  \\\n",
       "162      162    saint-pierre -21.3393   55.4781     71.28        64   \n",
       "208      208          najran  17.4924   44.1277     65.05        60   \n",
       "233      233             sur  22.5667   59.5289     75.00        64   \n",
       "293      293   makakilo city  21.3469 -158.0858     82.72        56   \n",
       "319      319            gizo  -8.1030  156.8419     84.63        61   \n",
       "334      334         bushehr  28.9684   50.8385     69.89        68   \n",
       "378      378       inhambane -23.8650   35.3833     69.22        65   \n",
       "415      415  cabo san lucas  22.8909 -109.9124     81.61        57   \n",
       "489      489        flinders -34.5833  150.8552     68.05        53   \n",
       "537      537          talara  -4.5772  -81.2719     72.36        68   \n",
       "\n",
       "     Cloudiness  Wind Speed Country        Date Hotel Name  \n",
       "162           0        6.91      RE  1668983532             \n",
       "208          14        1.39      SA  1668983560             \n",
       "233           0        7.67      OM  1668983575             \n",
       "293          20       21.85      US  1668983611             \n",
       "319          27        9.86      SB  1668983625             \n",
       "334           0       11.50      IR  1668983634             \n",
       "378          18       10.65      MZ  1668983660             \n",
       "415           0       17.27      MX  1668983167             \n",
       "489          29       15.99      AU  1668983700             \n",
       "537           0       19.57      PE  1668983755             "
      ]
     },
     "execution_count": 29,
     "metadata": {},
     "output_type": "execute_result"
    }
   ],
   "source": [
    "hotel_df = ideal\n",
    "hotel_df['Hotel Name'] = \"\"\n",
    "hotel_df.reset_index(drop=True)\n",
    "hotel_df"
   ]
  },
  {
   "cell_type": "code",
   "execution_count": 30,
   "metadata": {},
   "outputs": [
    {
     "name": "stdout",
     "output_type": "stream",
     "text": [
      "-21.3393, 55.4781\n",
      "17.4924, 44.1277\n",
      "22.5667, 59.5289\n",
      "21.3469, -158.0858\n",
      "-8.103, 156.8419\n",
      "28.9684, 50.8385\n",
      "-23.865, 35.3833\n",
      "22.8909, -109.9124\n",
      "-34.5833, 150.8552\n",
      "-4.5772, -81.2719\n"
     ]
    }
   ],
   "source": [
    "for index, row in hotel_df.iterrows():\n",
    "    target_coordinates = f\"{row['Lat']}, {row['Lng']}\"\n",
    "    print(target_coordinates)"
   ]
  },
  {
   "cell_type": "code",
   "execution_count": 31,
   "metadata": {},
   "outputs": [
    {
     "name": "stdout",
     "output_type": "stream",
     "text": [
      "Starting hotel search\n",
      "---------------------\n",
      "Hotel Search Complete\n"
     ]
    }
   ],
   "source": [
    "hotel_name = []\n",
    "hotel_lat = []\n",
    "hotel_lng = []\n",
    "\n",
    "print(\"Starting hotel search\")\n",
    "\n",
    "for index, row in hotel_df.iterrows():\n",
    "# target_coordinates = [row['Lat'], row[\"Lng\"]]\n",
    "# geocoordinates\n",
    "    target_coordinates = f\"{row['Lat']},{row['Lng']}\"\n",
    "    target_search = \"hotel\"\n",
    "    target_radius = 10000\n",
    "    target_type = \"hotel\"\n",
    "\n",
    "    # set up a parameters dictionary\n",
    "    params = {\n",
    "        \"location\": target_coordinates,\n",
    "        \"keyword\": target_search,\n",
    "        \"radius\": target_radius,\n",
    "        \"type\": target_type,\n",
    "        \"key\": g_key\n",
    "    }\n",
    "\n",
    "    # base url\n",
    "    base_url = \"https://maps.googleapis.com/maps/api/place/nearbysearch/json\"\n",
    "\n",
    "    # run a request using our params dictionary\n",
    "    my_request = requests.get(base_url, params=params).json()\n",
    "    try:\n",
    "        hotel_name.append(my_request['results'][0]['name'])\n",
    "        hotel_lat.append(my_request['results'][0]['geometry']['location']['lat'])\n",
    "        hotel_lng.append(my_request['results'][0]['geometry']['location']['lng'])\n",
    "        \n",
    "    except (KeyError, IndexError):\n",
    "        hotel_df.loc[index, \"Hotel Name\"] = \"No hotel found\"\n",
    "\n",
    "print('---------------------')\n",
    "print('Hotel Search Complete')\n",
    "\n",
    "\n",
    "    \n"
   ]
  },
  {
   "cell_type": "code",
   "execution_count": 32,
   "metadata": {},
   "outputs": [],
   "source": [
    "hotel_df['Hotel Name'] = hotel_name\n",
    "hotel_df['Hotel Lat'] = hotel_lat\n",
    "hotel_df['Hotel Lng'] = hotel_lng\n"
   ]
  },
  {
   "cell_type": "code",
   "execution_count": 33,
   "metadata": {},
   "outputs": [],
   "source": [
    "# NOTE: Do not change any of the code in this cell\n",
    "\n",
    "# Using the template add the hotel marks to the heatmap\n",
    "info_box_template = \"\"\"\n",
    "<dl>\n",
    "<dt>Name</dt><dd>{Hotel Name}</dd>\n",
    "<dt>City</dt><dd>{City}</dd>\n",
    "<dt>Country</dt><dd>{Country}</dd>\n",
    "</dl>\n",
    "\"\"\"\n",
    "# Store the DataFrame Row\n",
    "# NOTE: be sure to update with your DataFrame name\n",
    "hotel_info = [info_box_template.format(**row) for index, row in hotel_df.iterrows()]\n",
    "locations = hotel_df[[\"Lat\", \"Lng\"]]"
   ]
  },
  {
   "cell_type": "code",
   "execution_count": 34,
   "metadata": {},
   "outputs": [
    {
     "data": {
      "application/vnd.jupyter.widget-view+json": {
       "model_id": "751a3163535c45238fb3681f5dbd4f91",
       "version_major": 2,
       "version_minor": 0
      },
      "text/plain": [
       "Figure(layout=FigureLayout(height='500px', width='1200px'))"
      ]
     },
     "metadata": {},
     "output_type": "display_data"
    }
   ],
   "source": [
    "# Add marker layer ontop of heat map\n",
    "hotel_layer = gmaps.marker_layer(locations, info_box_content=hotel_info)\n",
    "fig = gmaps.figure(center=(0, 0), zoom_level=2.20, layout={'width': '1200px', 'height': '500px'})\n",
    "fig.add_layer(heat_layer)\n",
    "fig.add_layer(hotel_layer)\n",
    "# Display figure\n",
    "fig"
   ]
  },
  {
   "cell_type": "code",
   "execution_count": null,
   "metadata": {},
   "outputs": [],
   "source": []
  }
 ],
 "metadata": {
  "kernelspec": {
   "display_name": "Python 3.9.13 ('base')",
   "language": "python",
   "name": "python3"
  },
  "language_info": {
   "codemirror_mode": {
    "name": "ipython",
    "version": 3
   },
   "file_extension": ".py",
   "mimetype": "text/x-python",
   "name": "python",
   "nbconvert_exporter": "python",
   "pygments_lexer": "ipython3",
   "version": "3.9.13"
  },
  "latex_envs": {
   "LaTeX_envs_menu_present": true,
   "autoclose": false,
   "autocomplete": true,
   "bibliofile": "biblio.bib",
   "cite_by": "apalike",
   "current_citInitial": 1,
   "eqLabelWithNumbers": true,
   "eqNumInitial": 1,
   "hotkeys": {
    "equation": "Ctrl-E",
    "itemize": "Ctrl-I"
   },
   "labels_anchors": false,
   "latex_user_defs": false,
   "report_style_numbering": false,
   "user_envs_cfg": false
  },
  "vscode": {
   "interpreter": {
    "hash": "1a30f5ef553e25e2e4220b4f67437e5784e52fad54e3f5177be1dc9d15ecf5e4"
   }
  }
 },
 "nbformat": 4,
 "nbformat_minor": 4
}
